{
 "cells": [
  {
   "cell_type": "code",
   "execution_count": 2,
   "metadata": {},
   "outputs": [],
   "source": [
    "import torch\n",
    "import numpy as np\n",
    "\n",
    "# Input (temp, rainfall, humidity)\n",
    "# inputs = np.array([[73, 67, 43], \n",
    "#                    [91, 88, 64], \n",
    "#                    [87, 134, 58], \n",
    "#                    [102, 43, 37], \n",
    "#                    [69, 96, 70]], dtype='float32')\n",
    "\n",
    "# # Targets (apples, oranges)\n",
    "# targets = np.array([[56, 70], \n",
    "#                     [81, 101], \n",
    "#                     [119, 133], \n",
    "#                     [22, 37], \n",
    "#                     [103, 119]], dtype='float32')\n",
    "# Input (temp, rainfall, humidity)\n",
    "inputs = np.array([[73, 67, 43], \n",
    "                   [91, 88, 64], \n",
    "                   [87, 134, 58], \n",
    "                   [102, 43, 37], \n",
    "                   [69, 96, 70], \n",
    "                   [74, 66, 43], \n",
    "                   [91, 87, 65], \n",
    "                   [88, 134, 59], \n",
    "                   [101, 44, 37], \n",
    "                   [68, 96, 71], \n",
    "                   [73, 66, 44], \n",
    "                   [92, 87, 64], \n",
    "                   [87, 135, 57], \n",
    "                   [103, 43, 36], \n",
    "                   [68, 97, 70]], \n",
    "                  dtype='float32')\n",
    "\n",
    "# Targets (apples, oranges)\n",
    "targets = np.array([[56, 70], \n",
    "                    [81, 101], \n",
    "                    [119, 133], \n",
    "                    [22, 37], \n",
    "                    [103, 119],\n",
    "                    [57, 69], \n",
    "                    [80, 102], \n",
    "                    [118, 132], \n",
    "                    [21, 38], \n",
    "                    [104, 118], \n",
    "                    [57, 69], \n",
    "                    [82, 100], \n",
    "                    [118, 134], \n",
    "                    [20, 38], \n",
    "                    [102, 120]], \n",
    "                   dtype='float32')\n",
    "\n",
    "# Convert inputs and targets to tensors\n",
    "inputs = torch.from_numpy(inputs)\n",
    "targets = torch.from_numpy(targets)"
   ]
  },
  {
   "cell_type": "code",
   "execution_count": 3,
   "metadata": {},
   "outputs": [],
   "source": [
    "from torch.utils.data import TensorDataset\n",
    "# Define dataset\n",
    "train_ds = TensorDataset(inputs, targets)"
   ]
  },
  {
   "cell_type": "code",
   "execution_count": 4,
   "metadata": {},
   "outputs": [],
   "source": [
    "from torch.utils.data import DataLoader\n",
    "# Define data loader\n",
    "batch_size = 5\n",
    "train_dl = DataLoader(train_ds, batch_size, shuffle=True)"
   ]
  },
  {
   "cell_type": "code",
   "execution_count": 13,
   "metadata": {},
   "outputs": [
    {
     "data": {
      "text/plain": [
       "[Parameter containing:\n",
       " tensor([[-0.0498, -0.4404, -0.4871],\n",
       "         [-0.4451, -0.2754, -0.5750]], requires_grad=True),\n",
       " Parameter containing:\n",
       " tensor([0.1848, 0.2564], requires_grad=True)]"
      ]
     },
     "execution_count": 13,
     "metadata": {},
     "output_type": "execute_result"
    }
   ],
   "source": [
    "import torch.nn as nn\n",
    "# Define model\n",
    "model = nn.Linear(3,2)\n",
    "# Parameters\n",
    "list(model.parameters())"
   ]
  },
  {
   "cell_type": "code",
   "execution_count": 6,
   "metadata": {},
   "outputs": [
    {
     "data": {
      "text/plain": [
       "tensor([[-22.5845,  28.4359],\n",
       "        [-33.3895,  31.6259],\n",
       "        [-50.3992,  39.8213],\n",
       "        [ -3.5552,  41.7191],\n",
       "        [-44.3226,  19.2329],\n",
       "        [-21.9321,  28.7741],\n",
       "        [-33.3426,  31.0191],\n",
       "        [-50.4844,  39.8808],\n",
       "        [ -4.2075,  41.3810],\n",
       "        [-44.9281,  18.2880],\n",
       "        [-22.5376,  27.8291],\n",
       "        [-32.7372,  31.9640],\n",
       "        [-50.4461,  40.4281],\n",
       "        [ -2.9497,  42.6641],\n",
       "        [-44.9749,  18.8948]], grad_fn=<AddmmBackward0>)"
      ]
     },
     "execution_count": 6,
     "metadata": {},
     "output_type": "execute_result"
    }
   ],
   "source": [
    "# Generate predictions\n",
    "preds = model(inputs)\n",
    "preds"
   ]
  },
  {
   "cell_type": "code",
   "execution_count": 7,
   "metadata": {},
   "outputs": [
    {
     "name": "stdout",
     "output_type": "stream",
     "text": [
      "tensor(9540.1309, grad_fn=<MseLossBackward0>)\n"
     ]
    }
   ],
   "source": [
    "# Import nn.functional\n",
    "import torch.nn.functional as F\n",
    "# Define loss function\n",
    "loss_fn = F.mse_loss\n",
    "loss = loss_fn(model(inputs), targets)\n",
    "print(loss)"
   ]
  },
  {
   "cell_type": "code",
   "execution_count": 8,
   "metadata": {},
   "outputs": [],
   "source": [
    "# Define optimizer\n",
    "opt = torch.optim.SGD(model.parameters(), lr=1e-5)"
   ]
  },
  {
   "cell_type": "code",
   "execution_count": 9,
   "metadata": {},
   "outputs": [],
   "source": [
    "# Utility function to train the model\n",
    "def fit(num_epochs, model, loss_fn, opt, train_dl):\n",
    "    \n",
    "    # Repeat for given number of epochs\n",
    "    for epoch in range(num_epochs):\n",
    "        \n",
    "        # Train with batches of data\n",
    "        for xb,yb in train_dl:\n",
    "            \n",
    "            # 1. Generate predictions\n",
    "            pred = model(xb)\n",
    "            \n",
    "            # 2. Calculate loss\n",
    "            loss = loss_fn(pred, yb)\n",
    "            \n",
    "            # 3. Compute gradients\n",
    "            loss.backward()\n",
    "            \n",
    "            # 4. Update parameters using gradients\n",
    "            opt.step()\n",
    "            \n",
    "            # 5. Reset the gradients to zero\n",
    "            opt.zero_grad()\n",
    "        \n",
    "        # Print the progress\n",
    "        if (epoch+1) % 10 == 0:\n",
    "            print('Epoch [{}/{}], Loss: {:.4f}'.format(epoch+1, num_epochs, loss.item()))"
   ]
  },
  {
   "cell_type": "code",
   "execution_count": 10,
   "metadata": {},
   "outputs": [
    {
     "name": "stdout",
     "output_type": "stream",
     "text": [
      "Epoch [10/200], Loss: 937.2238\n",
      "Epoch [20/200], Loss: 87.9819\n",
      "Epoch [30/200], Loss: 397.6464\n",
      "Epoch [40/200], Loss: 388.4802\n",
      "Epoch [50/200], Loss: 350.0872\n",
      "Epoch [60/200], Loss: 84.2106\n",
      "Epoch [70/200], Loss: 13.8243\n",
      "Epoch [80/200], Loss: 97.1375\n",
      "Epoch [90/200], Loss: 18.2088\n",
      "Epoch [100/200], Loss: 87.1902\n",
      "Epoch [110/200], Loss: 125.6232\n",
      "Epoch [120/200], Loss: 68.6839\n",
      "Epoch [130/200], Loss: 29.2794\n",
      "Epoch [140/200], Loss: 42.9614\n",
      "Epoch [150/200], Loss: 48.2717\n",
      "Epoch [160/200], Loss: 43.3112\n",
      "Epoch [170/200], Loss: 18.5498\n",
      "Epoch [180/200], Loss: 30.7757\n",
      "Epoch [190/200], Loss: 28.5104\n",
      "Epoch [200/200], Loss: 20.7899\n"
     ]
    }
   ],
   "source": [
    "fit(200, model, loss_fn, opt, train_dl)"
   ]
  }
 ],
 "metadata": {
  "kernelspec": {
   "display_name": "cuda",
   "language": "python",
   "name": "python3"
  },
  "language_info": {
   "codemirror_mode": {
    "name": "ipython",
    "version": 3
   },
   "file_extension": ".py",
   "mimetype": "text/x-python",
   "name": "python",
   "nbconvert_exporter": "python",
   "pygments_lexer": "ipython3",
   "version": "3.10.8"
  }
 },
 "nbformat": 4,
 "nbformat_minor": 2
}

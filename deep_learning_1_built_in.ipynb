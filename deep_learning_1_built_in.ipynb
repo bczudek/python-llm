{
 "cells": [
  {
   "cell_type": "code",
   "execution_count": 45,
   "metadata": {},
   "outputs": [],
   "source": [
    "import torch\n",
    "import numpy as np\n",
    "\n",
    "# Input (temp, rainfall, humidity)\n",
    "# inputs = np.array([[73, 67, 43], \n",
    "#                    [91, 88, 64], \n",
    "#                    [87, 134, 58], \n",
    "#                    [102, 43, 37], \n",
    "#                    [69, 96, 70]], dtype='float32')\n",
    "\n",
    "# # Targets (apples, oranges)\n",
    "# targets = np.array([[56, 70], \n",
    "#                     [81, 101], \n",
    "#                     [119, 133], \n",
    "#                     [22, 37], \n",
    "#                     [103, 119]], dtype='float32')\n",
    "# Input (temp, rainfall, humidity)\n",
    "inputs = np.array([[73, 67, 43], \n",
    "                   [91, 88, 64], \n",
    "                   [87, 134, 58], \n",
    "                   [102, 43, 37], \n",
    "                   [69, 96, 70], \n",
    "                   [74, 66, 43], \n",
    "                   [91, 87, 65], \n",
    "                   [88, 134, 59], \n",
    "                   [101, 44, 37], \n",
    "                   [68, 96, 71], \n",
    "                   [73, 66, 44], \n",
    "                   [92, 87, 64], \n",
    "                   [87, 135, 57], \n",
    "                   [103, 43, 36], \n",
    "                   [68, 97, 70]], \n",
    "                  dtype='float32')\n",
    "\n",
    "# Targets (apples, oranges)\n",
    "targets = np.array([[56, 70], \n",
    "                    [81, 101], \n",
    "                    [119, 133], \n",
    "                    [22, 37], \n",
    "                    [103, 119],\n",
    "                    [57, 69], \n",
    "                    [80, 102], \n",
    "                    [118, 132], \n",
    "                    [21, 38], \n",
    "                    [104, 118], \n",
    "                    [57, 69], \n",
    "                    [82, 100], \n",
    "                    [118, 134], \n",
    "                    [20, 38], \n",
    "                    [102, 120]], \n",
    "                   dtype='float32')\n",
    "\n",
    "# Convert inputs and targets to tensors\n",
    "inputs = torch.from_numpy(inputs)\n",
    "targets = torch.from_numpy(targets)"
   ]
  },
  {
   "cell_type": "code",
   "execution_count": 46,
   "metadata": {},
   "outputs": [],
   "source": [
    "from torch.utils.data import TensorDataset\n",
    "# Define dataset\n",
    "train_ds = TensorDataset(inputs, targets)"
   ]
  },
  {
   "cell_type": "code",
   "execution_count": 47,
   "metadata": {},
   "outputs": [],
   "source": [
    "from torch.utils.data import DataLoader\n",
    "# Define data loader\n",
    "batch_size = 5\n",
    "train_dl = DataLoader(train_ds, batch_size, shuffle=True)"
   ]
  },
  {
   "cell_type": "code",
   "execution_count": 48,
   "metadata": {},
   "outputs": [
    {
     "data": {
      "text/plain": [
       "[Parameter containing:\n",
       " tensor([[ 0.2611, -0.1857,  0.4788],\n",
       "         [-0.2354, -0.0800,  0.4190]], requires_grad=True),\n",
       " Parameter containing:\n",
       " tensor([ 0.1175, -0.3538], requires_grad=True)]"
      ]
     },
     "execution_count": 48,
     "metadata": {},
     "output_type": "execute_result"
    }
   ],
   "source": [
    "import torch.nn as nn\n",
    "# Define model\n",
    "model = nn.Linear(3, 2)\n",
    "# Parameters\n",
    "list(model.parameters())"
   ]
  },
  {
   "cell_type": "code",
   "execution_count": 49,
   "metadata": {},
   "outputs": [
    {
     "data": {
      "text/plain": [
       "tensor([[ 27.3196,  -4.8757],\n",
       "        [ 38.1726,  -1.9922],\n",
       "        [ 25.7113,  -7.2442],\n",
       "        [ 36.4770, -12.2955],\n",
       "        [ 33.8149,   5.0599],\n",
       "        [ 27.7664,  -5.0310],\n",
       "        [ 38.8372,  -1.4932],\n",
       "        [ 26.4512,  -7.0605],\n",
       "        [ 36.0302, -12.1401],\n",
       "        [ 34.0326,   5.7142],\n",
       "        [ 27.9841,  -4.3767],\n",
       "        [ 38.6195,  -2.1476],\n",
       "        [ 25.0468,  -7.7432],\n",
       "        [ 36.2594, -12.9499],\n",
       "        [ 33.3681,   5.2152]], grad_fn=<AddmmBackward0>)"
      ]
     },
     "execution_count": 49,
     "metadata": {},
     "output_type": "execute_result"
    }
   ],
   "source": [
    "# Generate predictions\n",
    "preds = model(inputs)\n",
    "preds"
   ]
  },
  {
   "cell_type": "code",
   "execution_count": 50,
   "metadata": {},
   "outputs": [
    {
     "name": "stdout",
     "output_type": "stream",
     "text": [
      "tensor(6745.7612, grad_fn=<MseLossBackward0>)\n"
     ]
    }
   ],
   "source": [
    "# Import nn.functional\n",
    "import torch.nn.functional as F\n",
    "# Define loss function\n",
    "loss_fn = F.mse_loss\n",
    "loss = loss_fn(model(inputs), targets)\n",
    "print(loss)"
   ]
  },
  {
   "cell_type": "code",
   "execution_count": 51,
   "metadata": {},
   "outputs": [],
   "source": [
    "# Define optimizer\n",
    "opt = torch.optim.SGD(model.parameters(), lr=1e-5)"
   ]
  },
  {
   "cell_type": "code",
   "execution_count": 52,
   "metadata": {},
   "outputs": [],
   "source": [
    "# Utility function to train the model\n",
    "def fit(num_epochs, model, loss_fn, opt, train_dl):\n",
    "    \n",
    "    # Repeat for given number of epochs\n",
    "    for epoch in range(num_epochs):\n",
    "        \n",
    "        # Train with batches of data\n",
    "        for xb,yb in train_dl:\n",
    "            \n",
    "            # 1. Generate predictions\n",
    "            pred = model(xb)\n",
    "            \n",
    "            # 2. Calculate loss\n",
    "            loss = loss_fn(pred, yb)\n",
    "            \n",
    "            # 3. Compute gradients\n",
    "            loss.backward()\n",
    "            \n",
    "            # 4. Update parameters using gradients\n",
    "            opt.step()\n",
    "            \n",
    "            # 5. Reset the gradients to zero\n",
    "            opt.zero_grad()\n",
    "        \n",
    "        # Print the progress\n",
    "        if (epoch+1) % 10 == 0:\n",
    "            print('Epoch [{}/{}], Loss: {:.4f}'.format(epoch+1, num_epochs, loss.item()))"
   ]
  },
  {
   "cell_type": "code",
   "execution_count": 53,
   "metadata": {},
   "outputs": [
    {
     "name": "stdout",
     "output_type": "stream",
     "text": [
      "Epoch [10/200], Loss: 435.0196\n",
      "Epoch [20/200], Loss: 425.7869\n",
      "Epoch [30/200], Loss: 172.1568\n",
      "Epoch [40/200], Loss: 126.3665\n",
      "Epoch [50/200], Loss: 81.8263\n",
      "Epoch [60/200], Loss: 31.7627\n",
      "Epoch [70/200], Loss: 66.9900\n",
      "Epoch [80/200], Loss: 10.8081\n",
      "Epoch [90/200], Loss: 16.6878\n",
      "Epoch [100/200], Loss: 9.4493\n",
      "Epoch [110/200], Loss: 12.8509\n",
      "Epoch [120/200], Loss: 7.0073\n",
      "Epoch [130/200], Loss: 5.6361\n",
      "Epoch [140/200], Loss: 3.2247\n",
      "Epoch [150/200], Loss: 1.8268\n",
      "Epoch [160/200], Loss: 1.8636\n",
      "Epoch [170/200], Loss: 2.3990\n",
      "Epoch [180/200], Loss: 2.5043\n",
      "Epoch [190/200], Loss: 1.3201\n",
      "Epoch [200/200], Loss: 1.1801\n"
     ]
    }
   ],
   "source": [
    "fit(200, model, loss_fn, opt, train_dl)"
   ]
  }
 ],
 "metadata": {
  "kernelspec": {
   "display_name": "cuda",
   "language": "python",
   "name": "python3"
  },
  "language_info": {
   "codemirror_mode": {
    "name": "ipython",
    "version": 3
   },
   "file_extension": ".py",
   "mimetype": "text/x-python",
   "name": "python",
   "nbconvert_exporter": "python",
   "pygments_lexer": "ipython3",
   "version": "3.10.8"
  }
 },
 "nbformat": 4,
 "nbformat_minor": 2
}

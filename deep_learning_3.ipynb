{
 "cells": [
  {
   "cell_type": "code",
   "execution_count": 1,
   "metadata": {},
   "outputs": [],
   "source": [
    "import torch\n",
    "import torchvision\n",
    "from torchvision.datasets import MNIST"
   ]
  },
  {
   "cell_type": "code",
   "execution_count": 2,
   "metadata": {},
   "outputs": [],
   "source": [
    "dataset = MNIST(root='data/', download=True)"
   ]
  },
  {
   "cell_type": "code",
   "execution_count": 3,
   "metadata": {},
   "outputs": [
    {
     "data": {
      "text/plain": [
       "Dataset MNIST\n",
       "    Number of datapoints: 60000\n",
       "    Root location: data/\n",
       "    Split: Train"
      ]
     },
     "execution_count": 3,
     "metadata": {},
     "output_type": "execute_result"
    }
   ],
   "source": [
    "dataset"
   ]
  },
  {
   "cell_type": "code",
   "execution_count": 4,
   "metadata": {},
   "outputs": [],
   "source": [
    "import matplotlib.pyplot as plt\n",
    "%matplotlib inline"
   ]
  },
  {
   "cell_type": "code",
   "execution_count": 9,
   "metadata": {},
   "outputs": [
    {
     "name": "stdout",
     "output_type": "stream",
     "text": [
      "Label: 3\n"
     ]
    },
    {
     "data": {
      "image/png": "[encoded data removed]",
      "text/plain": [
       "<Figure size 640x480 with 1 Axes>"
      ]
     },
     "metadata": {},
     "output_type": "display_data"
    }
   ],
   "source": [
    "image, label = dataset[10]\n",
    "plt.imshow(image, cmap='gray')\n",
    "print('Label:', label)"
   ]
  },
  {
   "cell_type": "code",
   "execution_count": 10,
   "metadata": {},
   "outputs": [],
   "source": [
    "import torchvision.transforms as transforms"
   ]
  },
  {
   "cell_type": "code",
   "execution_count": 14,
   "metadata": {},
   "outputs": [
    {
     "name": "stdout",
     "output_type": "stream",
     "text": [
      "torch.Size([1, 28, 28]) 5\n"
     ]
    },
    {
     "data": {
      "text/plain": [
       "tensor([[[0.0039, 0.6039, 0.9922, 0.3529, 0.0000],\n",
       "         [0.0000, 0.5451, 0.9922, 0.7451, 0.0078],\n",
       "         [0.0000, 0.0431, 0.7451, 0.9922, 0.2745],\n",
       "         [0.0000, 0.0000, 0.1373, 0.9451, 0.8824],\n",
       "         [0.0000, 0.0000, 0.0000, 0.3176, 0.9412]]])"
      ]
     },
     "execution_count": 14,
     "metadata": {},
     "output_type": "execute_result"
    }
   ],
   "source": [
    "dataset = MNIST(root='data/', train=True, transform=transforms.ToTensor())\n",
    "\n",
    "image_tensor, label = dataset[0]\n",
    "print(image_tensor.shape, label)\n",
    "image_tensor[:,10:15, 10:15]"
   ]
  },
  {
   "cell_type": "code",
   "execution_count": 16,
   "metadata": {},
   "outputs": [
    {
     "data": {
      "image/png": "[encoded data removed]",
      "text/plain": [
       "<Figure size 640x480 with 1 Axes>"
      ]
     },
     "metadata": {},
     "output_type": "display_data"
    }
   ],
   "source": [
    "plt.imshow(image_tensor[0,10:15,10:15], cmap='gray');"
   ]
  },
  {
   "cell_type": "code",
   "execution_count": 19,
   "metadata": {},
   "outputs": [
    {
     "data": {
      "text/plain": [
       "(50000, 10000)"
      ]
     },
     "execution_count": 19,
     "metadata": {},
     "output_type": "execute_result"
    }
   ],
   "source": [
    "from torch.utils.data import random_split\n",
    "\n",
    "train_ds, val_ds = random_split(dataset, [50000, 10000])\n",
    "len(train_ds), len(val_ds)"
   ]
  },
  {
   "cell_type": "code",
   "execution_count": 20,
   "metadata": {},
   "outputs": [],
   "source": [
    "from torch.utils.data import DataLoader\n",
    "\n",
    "batch_size = 128\n",
    "\n",
    "train_loader = DataLoader(train_ds, batch_size, shuffle=True)\n",
    "val_loader = DataLoader(val_ds, batch_size)"
   ]
  },
  {
   "cell_type": "code",
   "execution_count": 22,
   "metadata": {},
   "outputs": [],
   "source": [
    "import torch.nn as nn\n",
    "\n",
    "input_size = 28*28\n",
    "num_classes = 10\n",
    "\n",
    "model = nn.Linear(input_size, num_classes)"
   ]
  },
  {
   "cell_type": "code",
   "execution_count": 25,
   "metadata": {},
   "outputs": [
    {
     "name": "stdout",
     "output_type": "stream",
     "text": [
      "torch.Size([10, 784])\n",
      "Parameter containing:\n",
      "tensor([[ 0.0321,  0.0311, -0.0146,  ..., -0.0199, -0.0104, -0.0099],\n",
      "        [-0.0269,  0.0297,  0.0305,  ..., -0.0351,  0.0083, -0.0202],\n",
      "        [-0.0331,  0.0069, -0.0343,  ...,  0.0006, -0.0341,  0.0172],\n",
      "        ...,\n",
      "        [-0.0034,  0.0284,  0.0204,  ...,  0.0075, -0.0347,  0.0147],\n",
      "        [-0.0272,  0.0234, -0.0348,  ...,  0.0213, -0.0038, -0.0063],\n",
      "        [ 0.0135, -0.0275, -0.0198,  ...,  0.0071,  0.0245,  0.0220]],\n",
      "       requires_grad=True)\n",
      "torch.Size([10])\n"
     ]
    },
    {
     "data": {
      "text/plain": [
       "Parameter containing:\n",
       "tensor([-0.0244,  0.0184,  0.0181, -0.0243,  0.0113, -0.0234, -0.0023, -0.0042,\n",
       "        -0.0187,  0.0193], requires_grad=True)"
      ]
     },
     "execution_count": 25,
     "metadata": {},
     "output_type": "execute_result"
    }
   ],
   "source": [
    "print(model.weight.shape)\n",
    "print(model.weight)\n",
    "\n",
    "print(model.bias.shape)\n",
    "model.bias"
   ]
  },
  {
   "cell_type": "code",
   "execution_count": 26,
   "metadata": {},
   "outputs": [
    {
     "name": "stdout",
     "output_type": "stream",
     "text": [
      "tensor([2, 1, 7, 0, 5, 1, 6, 0, 3, 3, 9, 2, 6, 9, 2, 2, 0, 8, 0, 3, 2, 4, 6, 9,\n",
      "        5, 4, 2, 0, 5, 3, 7, 2, 2, 0, 2, 1, 3, 2, 7, 7, 2, 7, 4, 6, 4, 1, 8, 2,\n",
      "        6, 6, 1, 3, 3, 6, 0, 1, 0, 3, 8, 9, 2, 1, 9, 8, 5, 0, 1, 0, 4, 7, 7, 2,\n",
      "        4, 1, 6, 9, 0, 7, 8, 7, 8, 6, 0, 9, 7, 5, 8, 1, 1, 4, 7, 4, 4, 4, 1, 4,\n",
      "        6, 9, 1, 4, 6, 6, 1, 8, 4, 7, 1, 2, 7, 8, 8, 1, 2, 0, 4, 3, 9, 6, 8, 6,\n",
      "        2, 8, 3, 2, 6, 6, 7, 7])\n",
      "torch.Size([128, 1, 28, 28])\n"
     ]
    },
    {
     "ename": "RuntimeError",
     "evalue": "mat1 and mat2 shapes cannot be multiplied (3584x28 and 784x10)",
     "output_type": "error",
     "traceback": [
      "\u001b[1;31m---------------------------------------------------------------------------\u001b[0m",
      "\u001b[1;31mRuntimeError\u001b[0m                              Traceback (most recent call last)",
      "\u001b[1;32mc:\\repo\\git\\python-llm\\deep_learning_3.ipynb Cell 13\u001b[0m line \u001b[0;36m4\n\u001b[0;32m      <a href='vscode-notebook-cell:/c%3A/repo/git/python-llm/deep_learning_3.ipynb#X15sZmlsZQ%3D%3D?line=1'>2</a>\u001b[0m \u001b[39mprint\u001b[39m(labels)\n\u001b[0;32m      <a href='vscode-notebook-cell:/c%3A/repo/git/python-llm/deep_learning_3.ipynb#X15sZmlsZQ%3D%3D?line=2'>3</a>\u001b[0m \u001b[39mprint\u001b[39m(images\u001b[39m.\u001b[39mshape)\n\u001b[1;32m----> <a href='vscode-notebook-cell:/c%3A/repo/git/python-llm/deep_learning_3.ipynb#X15sZmlsZQ%3D%3D?line=3'>4</a>\u001b[0m outputs \u001b[39m=\u001b[39m model(images)\n\u001b[0;32m      <a href='vscode-notebook-cell:/c%3A/repo/git/python-llm/deep_learning_3.ipynb#X15sZmlsZQ%3D%3D?line=4'>5</a>\u001b[0m \u001b[39mbreak\u001b[39;00m;\n",
      "File \u001b[1;32mc:\\repo\\git\\python-llm\\cuda\\lib\\site-packages\\torch\\nn\\modules\\module.py:1518\u001b[0m, in \u001b[0;36mModule._wrapped_call_impl\u001b[1;34m(self, *args, **kwargs)\u001b[0m\n\u001b[0;32m   1516\u001b[0m     \u001b[39mreturn\u001b[39;00m \u001b[39mself\u001b[39m\u001b[39m.\u001b[39m_compiled_call_impl(\u001b[39m*\u001b[39margs, \u001b[39m*\u001b[39m\u001b[39m*\u001b[39mkwargs)  \u001b[39m# type: ignore[misc]\u001b[39;00m\n\u001b[0;32m   1517\u001b[0m \u001b[39melse\u001b[39;00m:\n\u001b[1;32m-> 1518\u001b[0m     \u001b[39mreturn\u001b[39;00m \u001b[39mself\u001b[39m\u001b[39m.\u001b[39m_call_impl(\u001b[39m*\u001b[39margs, \u001b[39m*\u001b[39m\u001b[39m*\u001b[39mkwargs)\n",
      "File \u001b[1;32mc:\\repo\\git\\python-llm\\cuda\\lib\\site-packages\\torch\\nn\\modules\\module.py:1527\u001b[0m, in \u001b[0;36mModule._call_impl\u001b[1;34m(self, *args, **kwargs)\u001b[0m\n\u001b[0;32m   1522\u001b[0m \u001b[39m# If we don't have any hooks, we want to skip the rest of the logic in\u001b[39;00m\n\u001b[0;32m   1523\u001b[0m \u001b[39m# this function, and just call forward.\u001b[39;00m\n\u001b[0;32m   1524\u001b[0m \u001b[39mif\u001b[39;00m \u001b[39mnot\u001b[39;00m (\u001b[39mself\u001b[39m\u001b[39m.\u001b[39m_backward_hooks \u001b[39mor\u001b[39;00m \u001b[39mself\u001b[39m\u001b[39m.\u001b[39m_backward_pre_hooks \u001b[39mor\u001b[39;00m \u001b[39mself\u001b[39m\u001b[39m.\u001b[39m_forward_hooks \u001b[39mor\u001b[39;00m \u001b[39mself\u001b[39m\u001b[39m.\u001b[39m_forward_pre_hooks\n\u001b[0;32m   1525\u001b[0m         \u001b[39mor\u001b[39;00m _global_backward_pre_hooks \u001b[39mor\u001b[39;00m _global_backward_hooks\n\u001b[0;32m   1526\u001b[0m         \u001b[39mor\u001b[39;00m _global_forward_hooks \u001b[39mor\u001b[39;00m _global_forward_pre_hooks):\n\u001b[1;32m-> 1527\u001b[0m     \u001b[39mreturn\u001b[39;00m forward_call(\u001b[39m*\u001b[39margs, \u001b[39m*\u001b[39m\u001b[39m*\u001b[39mkwargs)\n\u001b[0;32m   1529\u001b[0m \u001b[39mtry\u001b[39;00m:\n\u001b[0;32m   1530\u001b[0m     result \u001b[39m=\u001b[39m \u001b[39mNone\u001b[39;00m\n",
      "File \u001b[1;32mc:\\repo\\git\\python-llm\\cuda\\lib\\site-packages\\torch\\nn\\modules\\linear.py:114\u001b[0m, in \u001b[0;36mLinear.forward\u001b[1;34m(self, input)\u001b[0m\n\u001b[0;32m    113\u001b[0m \u001b[39mdef\u001b[39;00m \u001b[39mforward\u001b[39m(\u001b[39mself\u001b[39m, \u001b[39minput\u001b[39m: Tensor) \u001b[39m-\u001b[39m\u001b[39m>\u001b[39m Tensor:\n\u001b[1;32m--> 114\u001b[0m     \u001b[39mreturn\u001b[39;00m F\u001b[39m.\u001b[39;49mlinear(\u001b[39minput\u001b[39;49m, \u001b[39mself\u001b[39;49m\u001b[39m.\u001b[39;49mweight, \u001b[39mself\u001b[39;49m\u001b[39m.\u001b[39;49mbias)\n",
      "\u001b[1;31mRuntimeError\u001b[0m: mat1 and mat2 shapes cannot be multiplied (3584x28 and 784x10)"
     ]
    }
   ],
   "source": [
    "for images, labels in train_loader:\n",
    "    print(labels)\n",
    "    print(images.shape)\n",
    "    outputs = model(images)\n",
    "    break;"
   ]
  },
  {
   "cell_type": "code",
   "execution_count": 27,
   "metadata": {},
   "outputs": [],
   "source": [
    "class MnistModel(nn.Module):\n",
    "    def __init__(self):\n",
    "        super().__init__()\n",
    "        self.linear = nn.Linear(input_size, num_classes)\n",
    "\n",
    "    def forward(self, xb):\n",
    "        xb = xb.reshape(-1, 784)\n",
    "        out = self.linear(xb)\n",
    "        return out\n",
    "    \n",
    "model = MnistModel()"
   ]
  },
  {
   "cell_type": "code",
   "execution_count": 30,
   "metadata": {},
   "outputs": [
    {
     "name": "stdout",
     "output_type": "stream",
     "text": [
      "torch.Size([10, 784]) torch.Size([10])\n"
     ]
    },
    {
     "data": {
      "text/plain": [
       "[Parameter containing:\n",
       " tensor([[ 0.0214, -0.0054,  0.0059,  ..., -0.0153, -0.0311, -0.0240],\n",
       "         [-0.0147, -0.0293,  0.0068,  ..., -0.0137,  0.0165, -0.0233],\n",
       "         [ 0.0249, -0.0150, -0.0230,  ..., -0.0209,  0.0332, -0.0217],\n",
       "         ...,\n",
       "         [-0.0259,  0.0005, -0.0238,  ...,  0.0259, -0.0263,  0.0192],\n",
       "         [-0.0112, -0.0350, -0.0110,  ...,  0.0345,  0.0241, -0.0170],\n",
       "         [-0.0132, -0.0222, -0.0121,  ...,  0.0226,  0.0126,  0.0045]],\n",
       "        requires_grad=True),\n",
       " Parameter containing:\n",
       " tensor([ 0.0105, -0.0325,  0.0122,  0.0168, -0.0127,  0.0157,  0.0112,  0.0110,\n",
       "         -0.0321, -0.0330], requires_grad=True)]"
      ]
     },
     "execution_count": 30,
     "metadata": {},
     "output_type": "execute_result"
    }
   ],
   "source": [
    "print(model.linear.weight.shape, model.linear.bias.shape)\n",
    "list(model.parameters())"
   ]
  },
  {
   "cell_type": "code",
   "execution_count": 31,
   "metadata": {},
   "outputs": [
    {
     "name": "stdout",
     "output_type": "stream",
     "text": [
      "images.shape:  torch.Size([128, 1, 28, 28])\n",
      "outputs.shape:  torch.Size([128, 10])\n",
      "Sample outputs:  tensor([[-0.1266, -0.0201,  0.2065, -0.2265, -0.3293,  0.0868, -0.2472, -0.0500,\n",
      "          0.2609, -0.3548],\n",
      "        [ 0.1331,  0.1236, -0.0483, -0.0363, -0.1612,  0.2361, -0.3158, -0.0208,\n",
      "          0.1153,  0.0342]])\n"
     ]
    }
   ],
   "source": [
    "for images, labels in train_loader:\n",
    "    print('images.shape: ', images.shape)\n",
    "    outputs = model(images)\n",
    "    break;\n",
    "\n",
    "print('outputs.shape: ', outputs.shape)\n",
    "print('Sample outputs: ', outputs[:2].data)"
   ]
  },
  {
   "cell_type": "code",
   "execution_count": 35,
   "metadata": {},
   "outputs": [
    {
     "name": "stdout",
     "output_type": "stream",
     "text": [
      "tensor([-0.1266, -0.0201,  0.2065, -0.2265, -0.3293,  0.0868, -0.2472, -0.0500,\n",
      "         0.2609, -0.3548], grad_fn=<SelectBackward0>)\n",
      "tensor([0.8811, 0.9801, 1.2294, 0.7974, 0.7194, 1.0907, 0.7810, 0.9513, 1.2981,\n",
      "        0.7013], grad_fn=<ExpBackward0>)\n",
      "tensor([0.0934, 0.1039, 0.1304, 0.0846, 0.0763, 0.1157, 0.0828, 0.1009, 0.1377,\n",
      "        0.0744], grad_fn=<DivBackward0>)\n",
      "tensor(1., grad_fn=<SumBackward0>)\n"
     ]
    }
   ],
   "source": [
    "#softmax\n",
    "print(outputs[0])\n",
    "exps = torch.exp(outputs[0])\n",
    "print(exps)\n",
    "probs = exps / torch.sum(exps)\n",
    "print(probs)\n",
    "print(torch.sum(probs))"
   ]
  },
  {
   "cell_type": "code",
   "execution_count": 42,
   "metadata": {},
   "outputs": [
    {
     "data": {
      "text/plain": [
       "1.0000001192092896"
      ]
     },
     "execution_count": 42,
     "metadata": {},
     "output_type": "execute_result"
    }
   ],
   "source": [
    "import torch.nn.functional as F\n",
    "probs = F.softmax(outputs, dim=1)\n",
    "torch.sum(probs[0].data).item()"
   ]
  },
  {
   "cell_type": "code",
   "execution_count": 44,
   "metadata": {},
   "outputs": [
    {
     "name": "stdout",
     "output_type": "stream",
     "text": [
      "tensor([8, 5, 2, 7, 2, 3, 3, 8, 5, 2, 6, 8, 2, 2, 2, 8, 2, 8, 1, 1, 7, 0, 0, 7,\n",
      "        8, 3, 5, 2, 0, 0, 2, 2, 2, 5, 2, 2, 2, 2, 8, 3, 2, 8, 4, 2, 8, 6, 2, 2,\n",
      "        2, 8, 5, 7, 2, 5, 2, 8, 0, 8, 1, 0, 2, 8, 2, 5, 2, 7, 5, 0, 2, 5, 5, 5,\n",
      "        2, 2, 5, 2, 2, 8, 8, 2, 8, 2, 8, 2, 2, 8, 5, 8, 2, 5, 2, 7, 5, 6, 8, 8,\n",
      "        2, 1, 0, 8, 7, 5, 2, 2, 2, 5, 2, 8, 0, 3, 7, 1, 5, 2, 8, 3, 3, 2, 2, 2,\n",
      "        5, 8, 7, 3, 2, 3, 8, 3])\n",
      "tensor([0.1377, 0.1245, 0.1226, 0.1222, 0.1159, 0.1254, 0.1179, 0.1134, 0.1310,\n",
      "        0.1454, 0.1231, 0.1159, 0.1138, 0.1149, 0.1242, 0.1382, 0.1241, 0.1266,\n",
      "        0.1191, 0.1361, 0.1159, 0.1330, 0.1235, 0.1263, 0.1463, 0.1197, 0.1229,\n",
      "        0.1274, 0.1310, 0.1406, 0.1356, 0.1369, 0.1187, 0.1181, 0.1389, 0.1257,\n",
      "        0.1364, 0.1177, 0.1177, 0.1277, 0.1148, 0.1361, 0.1155, 0.1260, 0.1156,\n",
      "        0.1212, 0.1425, 0.1510, 0.1301, 0.1221, 0.1199, 0.1296, 0.1591, 0.1366,\n",
      "        0.1907, 0.1209, 0.1307, 0.1393, 0.1397, 0.1440, 0.1951, 0.1328, 0.1447,\n",
      "        0.1243, 0.1585, 0.1173, 0.1289, 0.1305, 0.1339, 0.1375, 0.1326, 0.1317,\n",
      "        0.1237, 0.1119, 0.1355, 0.1547, 0.1335, 0.1292, 0.1246, 0.1530, 0.1456,\n",
      "        0.1671, 0.1494, 0.1500, 0.1422, 0.1269, 0.1212, 0.1267, 0.1147, 0.1117,\n",
      "        0.1237, 0.1279, 0.1334, 0.1235, 0.1511, 0.1420, 0.1426, 0.1265, 0.1433,\n",
      "        0.1276, 0.1229, 0.1251, 0.1459, 0.1126, 0.1229, 0.1269, 0.1234, 0.1337,\n",
      "        0.1329, 0.1191, 0.1360, 0.1264, 0.1203, 0.1559, 0.1301, 0.1175, 0.1211,\n",
      "        0.1233, 0.1345, 0.1426, 0.1283, 0.1371, 0.1367, 0.1302, 0.1164, 0.1252,\n",
      "        0.1511, 0.1222], grad_fn=<MaxBackward0>)\n"
     ]
    }
   ],
   "source": [
    "max_probs, preds = torch.max(probs, dim=1)\n",
    "print(preds)\n",
    "print(max_probs)"
   ]
  },
  {
   "cell_type": "code",
   "execution_count": 45,
   "metadata": {},
   "outputs": [
    {
     "data": {
      "text/plain": [
       "tensor([6, 1, 6, 2, 4, 0, 3, 3, 3, 8, 6, 6, 4, 4, 9, 3, 9, 7, 8, 4, 5, 3, 2, 5,\n",
       "        6, 2, 1, 2, 3, 0, 6, 3, 2, 1, 0, 2, 6, 1, 7, 7, 8, 0, 5, 5, 8, 8, 7, 9,\n",
       "        5, 0, 1, 9, 4, 1, 8, 9, 3, 1, 8, 0, 5, 9, 8, 1, 3, 8, 1, 6, 2, 6, 2, 1,\n",
       "        3, 3, 1, 9, 1, 9, 2, 4, 9, 6, 6, 9, 3, 8, 1, 9, 8, 3, 9, 8, 2, 8, 8, 6,\n",
       "        4, 8, 0, 2, 7, 1, 6, 1, 0, 8, 6, 5, 7, 1, 7, 8, 3, 4, 3, 9, 1, 7, 2, 7,\n",
       "        1, 2, 7, 1, 1, 1, 1, 1])"
      ]
     },
     "execution_count": 45,
     "metadata": {},
     "output_type": "execute_result"
    }
   ],
   "source": [
    "labels"
   ]
  },
  {
   "cell_type": "code",
   "execution_count": 46,
   "metadata": {},
   "outputs": [],
   "source": [
    "def accuracy(outputs, labels):\n",
    "    _, preds = torch.max(outputs, dim=1)\n",
    "    return torch.tensor(torch.sum(preds == labels).item() / len(preds))"
   ]
  },
  {
   "cell_type": "code",
   "execution_count": 48,
   "metadata": {},
   "outputs": [
    {
     "data": {
      "text/plain": [
       "tensor(0.1250)"
      ]
     },
     "execution_count": 48,
     "metadata": {},
     "output_type": "execute_result"
    }
   ],
   "source": [
    "accuracy(outputs, labels)"
   ]
  },
  {
   "cell_type": "code",
   "execution_count": 49,
   "metadata": {},
   "outputs": [
    {
     "name": "stdout",
     "output_type": "stream",
     "text": [
      "tensor(2.2839, grad_fn=<NllLossBackward0>)\n"
     ]
    }
   ],
   "source": [
    "loss_fn = F.cross_entropy\n",
    "loss = loss_fn(outputs, labels)\n",
    "print(loss)"
   ]
  },
  {
   "cell_type": "code",
   "execution_count": 50,
   "metadata": {},
   "outputs": [],
   "source": [
    "class MnistModel(nn.Module):\n",
    "    def __init__(self):\n",
    "        super().__init__()\n",
    "        self.linear = nn.Linear(input_size, num_classes)\n",
    "\n",
    "    def forward(self, xb):\n",
    "        xb = xb.reshape(-1, 784)\n",
    "        out = self.linear(xb)\n",
    "        return out\n",
    "    \n",
    "    def training_step(self, batch):\n",
    "        images, labels = batch\n",
    "        out = self(images)\n",
    "        loss = F.cross_entropy(out, labels)\n",
    "        return loss\n",
    "    \n",
    "    def validation_step(self, batch):\n",
    "        images, labels = batch\n",
    "        out = self(images)\n",
    "        loss = F.cross_entropy(out, labels)\n",
    "        acc = accuracy(out, labels)\n",
    "        return {'val_loss': loss, 'val_acc': acc}\n",
    "    \n",
    "    def validation_epoch_end(self, outputs):\n",
    "        batch_losses = [x['val_loss'] for x in outputs]\n",
    "        epoch_loss = torch.stack(batch_losses).mean()   # Combine losses\n",
    "        batch_accs = [x['val_acc'] for x in outputs]\n",
    "        epoch_acc = torch.stack(batch_accs).mean()      # Combine accuracies\n",
    "        return {'val_loss': epoch_loss.item(), 'val_acc': epoch_acc.item()}\n",
    "    \n",
    "    def epoch_end(self, epoch, result):\n",
    "        print(\"Epoch [{}], val_loss: {:.4f}, val_acc: {:.4f}\".format(epoch, result['val_loss'], result['val_acc']))\n",
    "    \n",
    "model = MnistModel()"
   ]
  },
  {
   "cell_type": "code",
   "execution_count": 51,
   "metadata": {},
   "outputs": [],
   "source": [
    "def fit(epochs, lr, model, train_loader, val_loader, opt_func=torch.optim.SGD):\n",
    "    optimizer = opt_func(model.parameters(), lr)\n",
    "    history = [] # for recording epoch-wise results\n",
    "    \n",
    "    for epoch in range(epochs):\n",
    "        \n",
    "        # Training Phase \n",
    "        for batch in train_loader:\n",
    "            loss = model.training_step(batch)\n",
    "            loss.backward()\n",
    "            optimizer.step()\n",
    "            optimizer.zero_grad()\n",
    "        \n",
    "        # Validation phase\n",
    "        result = evaluate(model, val_loader)\n",
    "        model.epoch_end(epoch, result)\n",
    "        history.append(result)\n",
    "\n",
    "    return history"
   ]
  },
  {
   "cell_type": "code",
   "execution_count": 52,
   "metadata": {},
   "outputs": [],
   "source": [
    "def evaluate(model, val_loader):\n",
    "    outputs = [model.validation_step(batch) for batch in val_loader]\n",
    "    return model.validation_epoch_end(outputs)"
   ]
  },
  {
   "cell_type": "code",
   "execution_count": 53,
   "metadata": {},
   "outputs": [
    {
     "data": {
      "text/plain": [
       "{'val_loss': 2.3137121200561523, 'val_acc': 0.08910205960273743}"
      ]
     },
     "execution_count": 53,
     "metadata": {},
     "output_type": "execute_result"
    }
   ],
   "source": [
    "result0 = evaluate(model, val_loader)\n",
    "result0"
   ]
  },
  {
   "cell_type": "code",
   "execution_count": 54,
   "metadata": {},
   "outputs": [
    {
     "name": "stdout",
     "output_type": "stream",
     "text": [
      "Epoch [0], val_loss: 1.9429, val_acc: 0.6107\n",
      "Epoch [1], val_loss: 1.6739, val_acc: 0.7214\n",
      "Epoch [2], val_loss: 1.4730, val_acc: 0.7599\n",
      "Epoch [3], val_loss: 1.3212, val_acc: 0.7809\n",
      "Epoch [4], val_loss: 1.2045, val_acc: 0.7965\n"
     ]
    }
   ],
   "source": [
    "history1 = fit(5, 0.001, model, train_loader, val_loader)"
   ]
  },
  {
   "cell_type": "code",
   "execution_count": 55,
   "metadata": {},
   "outputs": [
    {
     "name": "stdout",
     "output_type": "stream",
     "text": [
      "Epoch [0], val_loss: 0.9791, val_acc: 0.8236\n",
      "Epoch [1], val_loss: 0.8500, val_acc: 0.8354\n",
      "Epoch [2], val_loss: 0.7667, val_acc: 0.8436\n",
      "Epoch [3], val_loss: 0.7078, val_acc: 0.8495\n",
      "Epoch [4], val_loss: 0.6640, val_acc: 0.8539\n"
     ]
    }
   ],
   "source": [
    "history2 = fit(5, 0.003, model, train_loader, val_loader)"
   ]
  }
 ],
 "metadata": {
  "kernelspec": {
   "display_name": "cuda",
   "language": "python",
   "name": "python3"
  },
  "language_info": {
   "codemirror_mode": {
    "name": "ipython",
    "version": 3
   },
   "file_extension": ".py",
   "mimetype": "text/x-python",
   "name": "python",
   "nbconvert_exporter": "python",
   "pygments_lexer": "ipython3",
   "version": "3.10.8"
  }
 },
 "nbformat": 4,
 "nbformat_minor": 2
}

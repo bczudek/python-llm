{
 "cells": [
  {
   "cell_type": "code",
   "execution_count": 1,
   "metadata": {},
   "outputs": [],
   "source": [
    "import torch\n",
    "import torchvision\n",
    "from torchvision.datasets import MNIST"
   ]
  },
  {
   "cell_type": "code",
   "execution_count": 2,
   "metadata": {},
   "outputs": [],
   "source": [
    "dataset = MNIST(root='data/', download=True)"
   ]
  },
  {
   "cell_type": "code",
   "execution_count": 3,
   "metadata": {},
   "outputs": [
    {
     "data": {
      "text/plain": [
       "Dataset MNIST\n",
       "    Number of datapoints: 60000\n",
       "    Root location: data/\n",
       "    Split: Train"
      ]
     },
     "execution_count": 3,
     "metadata": {},
     "output_type": "execute_result"
    }
   ],
   "source": [
    "dataset"
   ]
  },
  {
   "cell_type": "code",
   "execution_count": 4,
   "metadata": {},
   "outputs": [],
   "source": [
    "import matplotlib.pyplot as plt\n",
    "%matplotlib inline"
   ]
  },
  {
   "cell_type": "code",
   "execution_count": 5,
   "metadata": {},
   "outputs": [
    {
     "name": "stdout",
     "output_type": "stream",
     "text": [
      "Label: 3\n"
     ]
    },
    {
     "data": {
      "image/png": "[encoded data removed]",
      "text/plain": [
       "<Figure size 640x480 with 1 Axes>"
      ]
     },
     "metadata": {},
     "output_type": "display_data"
    }
   ],
   "source": [
    "image, label = dataset[10]\n",
    "plt.imshow(image, cmap='gray')\n",
    "print('Label:', label)"
   ]
  },
  {
   "cell_type": "code",
   "execution_count": 6,
   "metadata": {},
   "outputs": [],
   "source": [
    "import torchvision.transforms as transforms"
   ]
  },
  {
   "cell_type": "code",
   "execution_count": 7,
   "metadata": {},
   "outputs": [
    {
     "name": "stdout",
     "output_type": "stream",
     "text": [
      "torch.Size([1, 28, 28]) 5\n"
     ]
    },
    {
     "data": {
      "text/plain": [
       "tensor([[[0.0039, 0.6039, 0.9922, 0.3529, 0.0000],\n",
       "         [0.0000, 0.5451, 0.9922, 0.7451, 0.0078],\n",
       "         [0.0000, 0.0431, 0.7451, 0.9922, 0.2745],\n",
       "         [0.0000, 0.0000, 0.1373, 0.9451, 0.8824],\n",
       "         [0.0000, 0.0000, 0.0000, 0.3176, 0.9412]]])"
      ]
     },
     "execution_count": 7,
     "metadata": {},
     "output_type": "execute_result"
    }
   ],
   "source": [
    "dataset = MNIST(root='data/', train=True, transform=transforms.ToTensor())\n",
    "\n",
    "image_tensor, label = dataset[0]\n",
    "print(image_tensor.shape, label)\n",
    "image_tensor[:,10:15, 10:15]"
   ]
  },
  {
   "cell_type": "code",
   "execution_count": 8,
   "metadata": {},
   "outputs": [
    {
     "data": {
      "image/png": "[encoded data removed]",
      "text/plain": [
       "<Figure size 640x480 with 1 Axes>"
      ]
     },
     "metadata": {},
     "output_type": "display_data"
    }
   ],
   "source": [
    "plt.imshow(image_tensor[0,10:15,10:15], cmap='gray');"
   ]
  },
  {
   "cell_type": "code",
   "execution_count": 9,
   "metadata": {},
   "outputs": [
    {
     "data": {
      "text/plain": [
       "(50000, 10000)"
      ]
     },
     "execution_count": 9,
     "metadata": {},
     "output_type": "execute_result"
    }
   ],
   "source": [
    "from torch.utils.data import random_split\n",
    "\n",
    "train_ds, val_ds = random_split(dataset, [50000, 10000])\n",
    "len(train_ds), len(val_ds)"
   ]
  },
  {
   "cell_type": "code",
   "execution_count": 10,
   "metadata": {},
   "outputs": [],
   "source": [
    "from torch.utils.data import DataLoader\n",
    "\n",
    "batch_size = 128\n",
    "\n",
    "train_loader = DataLoader(train_ds, batch_size, shuffle=True)\n",
    "val_loader = DataLoader(val_ds, batch_size)"
   ]
  },
  {
   "cell_type": "code",
   "execution_count": 11,
   "metadata": {},
   "outputs": [],
   "source": [
    "import torch.nn as nn\n",
    "\n",
    "input_size = 28*28\n",
    "num_classes = 10\n",
    "\n",
    "model = nn.Linear(input_size, num_classes)"
   ]
  },
  {
   "cell_type": "code",
   "execution_count": 12,
   "metadata": {},
   "outputs": [
    {
     "name": "stdout",
     "output_type": "stream",
     "text": [
      "torch.Size([10, 784])\n",
      "Parameter containing:\n",
      "tensor([[ 0.0056, -0.0172,  0.0244,  ..., -0.0316,  0.0116, -0.0166],\n",
      "        [ 0.0265,  0.0167,  0.0070,  ...,  0.0116,  0.0116, -0.0074],\n",
      "        [-0.0031,  0.0191,  0.0210,  ...,  0.0134, -0.0243, -0.0026],\n",
      "        ...,\n",
      "        [ 0.0069, -0.0294,  0.0235,  ..., -0.0249, -0.0202,  0.0051],\n",
      "        [ 0.0259,  0.0243, -0.0313,  ...,  0.0099,  0.0340, -0.0207],\n",
      "        [ 0.0033,  0.0339, -0.0169,  ...,  0.0316, -0.0264, -0.0223]],\n",
      "       requires_grad=True)\n",
      "torch.Size([10])\n"
     ]
    },
    {
     "data": {
      "text/plain": [
       "Parameter containing:\n",
       "tensor([-0.0224,  0.0066,  0.0170,  0.0183,  0.0302, -0.0129,  0.0165, -0.0258,\n",
       "        -0.0265,  0.0291], requires_grad=True)"
      ]
     },
     "execution_count": 12,
     "metadata": {},
     "output_type": "execute_result"
    }
   ],
   "source": [
    "print(model.weight.shape)\n",
    "print(model.weight)\n",
    "\n",
    "print(model.bias.shape)\n",
    "model.bias"
   ]
  },
  {
   "cell_type": "code",
   "execution_count": 13,
   "metadata": {},
   "outputs": [
    {
     "name": "stdout",
     "output_type": "stream",
     "text": [
      "tensor([4, 3, 7, 5, 2, 2, 9, 0, 6, 0, 8, 1, 5, 6, 8, 6, 0, 9, 6, 3, 0, 3, 1, 4,\n",
      "        5, 1, 0, 7, 0, 7, 6, 1, 3, 1, 1, 4, 1, 0, 4, 3, 6, 5, 4, 2, 9, 9, 3, 2,\n",
      "        5, 1, 3, 2, 3, 6, 2, 1, 7, 6, 3, 6, 9, 2, 2, 3, 9, 1, 5, 7, 9, 3, 4, 8,\n",
      "        9, 2, 9, 3, 0, 2, 3, 3, 5, 6, 5, 6, 2, 3, 3, 3, 7, 1, 6, 3, 7, 8, 9, 0,\n",
      "        7, 2, 0, 8, 9, 3, 0, 8, 0, 0, 0, 1, 2, 6, 0, 9, 8, 4, 9, 2, 0, 1, 9, 6,\n",
      "        6, 7, 1, 2, 8, 6, 4, 3])\n",
      "torch.Size([128, 1, 28, 28])\n"
     ]
    },
    {
     "ename": "RuntimeError",
     "evalue": "mat1 and mat2 shapes cannot be multiplied (3584x28 and 784x10)",
     "output_type": "error",
     "traceback": [
      "\u001b[1;31m---------------------------------------------------------------------------\u001b[0m",
      "\u001b[1;31mRuntimeError\u001b[0m                              Traceback (most recent call last)",
      "\u001b[1;32mc:\\repo\\git\\python-llm\\deep_learning_3.ipynb Cell 13\u001b[0m line \u001b[0;36m4\n\u001b[0;32m      <a href='vscode-notebook-cell:/c%3A/repo/git/python-llm/deep_learning_3.ipynb#X15sZmlsZQ%3D%3D?line=1'>2</a>\u001b[0m \u001b[39mprint\u001b[39m(labels)\n\u001b[0;32m      <a href='vscode-notebook-cell:/c%3A/repo/git/python-llm/deep_learning_3.ipynb#X15sZmlsZQ%3D%3D?line=2'>3</a>\u001b[0m \u001b[39mprint\u001b[39m(images\u001b[39m.\u001b[39mshape)\n\u001b[1;32m----> <a href='vscode-notebook-cell:/c%3A/repo/git/python-llm/deep_learning_3.ipynb#X15sZmlsZQ%3D%3D?line=3'>4</a>\u001b[0m outputs \u001b[39m=\u001b[39m model(images)\n\u001b[0;32m      <a href='vscode-notebook-cell:/c%3A/repo/git/python-llm/deep_learning_3.ipynb#X15sZmlsZQ%3D%3D?line=4'>5</a>\u001b[0m \u001b[39mbreak\u001b[39;00m;\n",
      "File \u001b[1;32mc:\\repo\\git\\python-llm\\cuda\\lib\\site-packages\\torch\\nn\\modules\\module.py:1518\u001b[0m, in \u001b[0;36mModule._wrapped_call_impl\u001b[1;34m(self, *args, **kwargs)\u001b[0m\n\u001b[0;32m   1516\u001b[0m     \u001b[39mreturn\u001b[39;00m \u001b[39mself\u001b[39m\u001b[39m.\u001b[39m_compiled_call_impl(\u001b[39m*\u001b[39margs, \u001b[39m*\u001b[39m\u001b[39m*\u001b[39mkwargs)  \u001b[39m# type: ignore[misc]\u001b[39;00m\n\u001b[0;32m   1517\u001b[0m \u001b[39melse\u001b[39;00m:\n\u001b[1;32m-> 1518\u001b[0m     \u001b[39mreturn\u001b[39;00m \u001b[39mself\u001b[39m\u001b[39m.\u001b[39m_call_impl(\u001b[39m*\u001b[39margs, \u001b[39m*\u001b[39m\u001b[39m*\u001b[39mkwargs)\n",
      "File \u001b[1;32mc:\\repo\\git\\python-llm\\cuda\\lib\\site-packages\\torch\\nn\\modules\\module.py:1527\u001b[0m, in \u001b[0;36mModule._call_impl\u001b[1;34m(self, *args, **kwargs)\u001b[0m\n\u001b[0;32m   1522\u001b[0m \u001b[39m# If we don't have any hooks, we want to skip the rest of the logic in\u001b[39;00m\n\u001b[0;32m   1523\u001b[0m \u001b[39m# this function, and just call forward.\u001b[39;00m\n\u001b[0;32m   1524\u001b[0m \u001b[39mif\u001b[39;00m \u001b[39mnot\u001b[39;00m (\u001b[39mself\u001b[39m\u001b[39m.\u001b[39m_backward_hooks \u001b[39mor\u001b[39;00m \u001b[39mself\u001b[39m\u001b[39m.\u001b[39m_backward_pre_hooks \u001b[39mor\u001b[39;00m \u001b[39mself\u001b[39m\u001b[39m.\u001b[39m_forward_hooks \u001b[39mor\u001b[39;00m \u001b[39mself\u001b[39m\u001b[39m.\u001b[39m_forward_pre_hooks\n\u001b[0;32m   1525\u001b[0m         \u001b[39mor\u001b[39;00m _global_backward_pre_hooks \u001b[39mor\u001b[39;00m _global_backward_hooks\n\u001b[0;32m   1526\u001b[0m         \u001b[39mor\u001b[39;00m _global_forward_hooks \u001b[39mor\u001b[39;00m _global_forward_pre_hooks):\n\u001b[1;32m-> 1527\u001b[0m     \u001b[39mreturn\u001b[39;00m forward_call(\u001b[39m*\u001b[39margs, \u001b[39m*\u001b[39m\u001b[39m*\u001b[39mkwargs)\n\u001b[0;32m   1529\u001b[0m \u001b[39mtry\u001b[39;00m:\n\u001b[0;32m   1530\u001b[0m     result \u001b[39m=\u001b[39m \u001b[39mNone\u001b[39;00m\n",
      "File \u001b[1;32mc:\\repo\\git\\python-llm\\cuda\\lib\\site-packages\\torch\\nn\\modules\\linear.py:114\u001b[0m, in \u001b[0;36mLinear.forward\u001b[1;34m(self, input)\u001b[0m\n\u001b[0;32m    113\u001b[0m \u001b[39mdef\u001b[39;00m \u001b[39mforward\u001b[39m(\u001b[39mself\u001b[39m, \u001b[39minput\u001b[39m: Tensor) \u001b[39m-\u001b[39m\u001b[39m>\u001b[39m Tensor:\n\u001b[1;32m--> 114\u001b[0m     \u001b[39mreturn\u001b[39;00m F\u001b[39m.\u001b[39;49mlinear(\u001b[39minput\u001b[39;49m, \u001b[39mself\u001b[39;49m\u001b[39m.\u001b[39;49mweight, \u001b[39mself\u001b[39;49m\u001b[39m.\u001b[39;49mbias)\n",
      "\u001b[1;31mRuntimeError\u001b[0m: mat1 and mat2 shapes cannot be multiplied (3584x28 and 784x10)"
     ]
    }
   ],
   "source": [
    "for images, labels in train_loader:\n",
    "    print(labels)\n",
    "    print(images.shape)\n",
    "    outputs = model(images)\n",
    "    break;"
   ]
  },
  {
   "cell_type": "code",
   "execution_count": 14,
   "metadata": {},
   "outputs": [],
   "source": [
    "class MnistModel(nn.Module):\n",
    "    def __init__(self):\n",
    "        super().__init__()\n",
    "        self.linear = nn.Linear(input_size, num_classes)\n",
    "\n",
    "    def forward(self, xb):\n",
    "        xb = xb.reshape(-1, 784)\n",
    "        out = self.linear(xb)\n",
    "        return out\n",
    "    \n",
    "model = MnistModel()"
   ]
  },
  {
   "cell_type": "code",
   "execution_count": 15,
   "metadata": {},
   "outputs": [
    {
     "name": "stdout",
     "output_type": "stream",
     "text": [
      "torch.Size([10, 784]) torch.Size([10])\n"
     ]
    },
    {
     "data": {
      "text/plain": [
       "[Parameter containing:\n",
       " tensor([[-0.0337, -0.0184, -0.0177,  ...,  0.0016,  0.0264,  0.0169],\n",
       "         [ 0.0247,  0.0232, -0.0152,  ..., -0.0174,  0.0347,  0.0127],\n",
       "         [-0.0210,  0.0311, -0.0328,  ..., -0.0263,  0.0136,  0.0211],\n",
       "         ...,\n",
       "         [ 0.0167, -0.0006,  0.0004,  ...,  0.0139,  0.0303,  0.0041],\n",
       "         [-0.0078,  0.0126,  0.0331,  ...,  0.0157,  0.0300,  0.0350],\n",
       "         [-0.0106,  0.0255,  0.0009,  ...,  0.0041, -0.0069, -0.0136]],\n",
       "        requires_grad=True),\n",
       " Parameter containing:\n",
       " tensor([-0.0072,  0.0038,  0.0207, -0.0275, -0.0320, -0.0265, -0.0038,  0.0128,\n",
       "         -0.0184, -0.0030], requires_grad=True)]"
      ]
     },
     "execution_count": 15,
     "metadata": {},
     "output_type": "execute_result"
    }
   ],
   "source": [
    "print(model.linear.weight.shape, model.linear.bias.shape)\n",
    "list(model.parameters())"
   ]
  },
  {
   "cell_type": "code",
   "execution_count": 16,
   "metadata": {},
   "outputs": [
    {
     "name": "stdout",
     "output_type": "stream",
     "text": [
      "images.shape:  torch.Size([128, 1, 28, 28])\n",
      "outputs.shape:  torch.Size([128, 10])\n",
      "Sample outputs:  tensor([[-0.1034, -0.0626, -0.0896,  0.2679, -0.1297, -0.0661, -0.0426,  0.3576,\n",
      "          0.3722,  0.0303],\n",
      "        [ 0.3041,  0.0863,  0.0527,  0.1245,  0.2276,  0.0697, -0.0342, -0.1630,\n",
      "          0.3703,  0.0739]])\n"
     ]
    }
   ],
   "source": [
    "for images, labels in train_loader:\n",
    "    print('images.shape: ', images.shape)\n",
    "    outputs = model(images)\n",
    "    break;\n",
    "\n",
    "print('outputs.shape: ', outputs.shape)\n",
    "print('Sample outputs: ', outputs[:2].data)"
   ]
  },
  {
   "cell_type": "code",
   "execution_count": 17,
   "metadata": {},
   "outputs": [
    {
     "name": "stdout",
     "output_type": "stream",
     "text": [
      "tensor([-0.1034, -0.0626, -0.0896,  0.2679, -0.1297, -0.0661, -0.0426,  0.3576,\n",
      "         0.3722,  0.0303], grad_fn=<SelectBackward0>)\n",
      "tensor([0.9018, 0.9393, 0.9143, 1.3073, 0.8783, 0.9361, 0.9583, 1.4299, 1.4509,\n",
      "        1.0307], grad_fn=<ExpBackward0>)\n",
      "tensor([0.0839, 0.0874, 0.0851, 0.1216, 0.0817, 0.0871, 0.0892, 0.1331, 0.1350,\n",
      "        0.0959], grad_fn=<DivBackward0>)\n",
      "tensor(1., grad_fn=<SumBackward0>)\n"
     ]
    }
   ],
   "source": [
    "#softmax\n",
    "print(outputs[0])\n",
    "exps = torch.exp(outputs[0])\n",
    "print(exps)\n",
    "probs = exps / torch.sum(exps)\n",
    "print(probs)\n",
    "print(torch.sum(probs))"
   ]
  },
  {
   "cell_type": "code",
   "execution_count": 18,
   "metadata": {},
   "outputs": [
    {
     "data": {
      "text/plain": [
       "0.9999999403953552"
      ]
     },
     "execution_count": 18,
     "metadata": {},
     "output_type": "execute_result"
    }
   ],
   "source": [
    "import torch.nn.functional as F\n",
    "probs = F.softmax(outputs, dim=1)\n",
    "torch.sum(probs[0].data).item()"
   ]
  },
  {
   "cell_type": "code",
   "execution_count": 19,
   "metadata": {},
   "outputs": [
    {
     "name": "stdout",
     "output_type": "stream",
     "text": [
      "tensor([8, 8, 3, 8, 9, 9, 8, 9, 3, 3, 3, 9, 3, 8, 9, 3, 8, 3, 5, 3, 9, 7, 3, 3,\n",
      "        5, 9, 4, 1, 8, 3, 8, 3, 3, 2, 8, 8, 8, 3, 9, 3, 3, 9, 3, 8, 2, 3, 3, 3,\n",
      "        3, 8, 9, 8, 2, 3, 3, 8, 3, 3, 2, 9, 3, 8, 8, 8, 3, 8, 3, 8, 9, 8, 3, 0,\n",
      "        8, 5, 8, 8, 9, 8, 8, 2, 8, 3, 8, 9, 3, 8, 3, 2, 3, 3, 8, 3, 3, 8, 3, 3,\n",
      "        2, 8, 8, 0, 8, 8, 2, 8, 9, 2, 9, 1, 0, 5, 2, 1, 3, 1, 3, 3, 3, 8, 3, 5,\n",
      "        8, 8, 2, 2, 8, 9, 3, 9])\n",
      "tensor([0.1350, 0.1281, 0.1297, 0.1223, 0.1412, 0.1512, 0.1121, 0.1220, 0.1275,\n",
      "        0.1247, 0.1226, 0.1327, 0.1259, 0.1333, 0.1506, 0.1193, 0.1338, 0.1232,\n",
      "        0.1133, 0.1187, 0.1361, 0.1302, 0.1185, 0.1422, 0.1217, 0.1536, 0.1246,\n",
      "        0.1192, 0.1227, 0.1159, 0.1409, 0.1421, 0.1149, 0.1345, 0.1555, 0.1454,\n",
      "        0.1490, 0.1284, 0.1232, 0.1211, 0.1383, 0.1773, 0.1281, 0.1412, 0.1216,\n",
      "        0.1329, 0.1187, 0.1141, 0.1211, 0.1264, 0.1410, 0.1222, 0.1226, 0.1340,\n",
      "        0.1257, 0.1377, 0.1346, 0.1329, 0.1126, 0.1333, 0.1391, 0.1272, 0.1274,\n",
      "        0.1166, 0.1173, 0.1258, 0.1299, 0.1388, 0.1160, 0.1264, 0.1299, 0.1163,\n",
      "        0.1446, 0.1311, 0.1179, 0.1232, 0.1261, 0.1119, 0.1329, 0.1155, 0.1288,\n",
      "        0.1590, 0.1472, 0.1129, 0.1335, 0.1265, 0.1364, 0.1512, 0.1260, 0.1249,\n",
      "        0.1476, 0.1197, 0.1158, 0.1300, 0.1146, 0.1218, 0.1351, 0.1388, 0.1160,\n",
      "        0.1240, 0.1430, 0.1247, 0.1303, 0.1325, 0.1423, 0.1197, 0.1401, 0.1172,\n",
      "        0.1306, 0.1251, 0.1247, 0.1411, 0.1264, 0.1250, 0.1276, 0.1370, 0.1173,\n",
      "        0.1222, 0.1284, 0.1524, 0.1274, 0.1555, 0.1374, 0.1406, 0.1159, 0.1299,\n",
      "        0.1222, 0.1432], grad_fn=<MaxBackward0>)\n"
     ]
    }
   ],
   "source": [
    "max_probs, preds = torch.max(probs, dim=1)\n",
    "print(preds)\n",
    "print(max_probs)"
   ]
  },
  {
   "cell_type": "code",
   "execution_count": 20,
   "metadata": {},
   "outputs": [
    {
     "data": {
      "text/plain": [
       "tensor([8, 4, 9, 9, 2, 0, 9, 6, 2, 4, 1, 1, 1, 4, 6, 2, 5, 1, 1, 1, 5, 1, 3, 8,\n",
       "        8, 0, 4, 4, 5, 1, 5, 7, 1, 2, 0, 8, 7, 5, 3, 1, 5, 2, 8, 9, 6, 0, 3, 6,\n",
       "        6, 2, 0, 8, 7, 1, 1, 6, 1, 1, 2, 6, 8, 9, 4, 7, 3, 5, 1, 7, 6, 8, 3, 5,\n",
       "        4, 8, 7, 4, 2, 8, 0, 4, 6, 5, 8, 7, 9, 2, 5, 0, 1, 7, 8, 1, 1, 7, 1, 3,\n",
       "        7, 0, 7, 4, 0, 9, 2, 5, 0, 5, 2, 7, 4, 8, 5, 8, 6, 9, 1, 1, 2, 4, 0, 8,\n",
       "        9, 8, 0, 8, 7, 0, 7, 0])"
      ]
     },
     "execution_count": 20,
     "metadata": {},
     "output_type": "execute_result"
    }
   ],
   "source": [
    "labels"
   ]
  },
  {
   "cell_type": "code",
   "execution_count": 21,
   "metadata": {},
   "outputs": [],
   "source": [
    "def accuracy(outputs, labels):\n",
    "    _, preds = torch.max(outputs, dim=1)\n",
    "    return torch.tensor(torch.sum(preds == labels).item() / len(preds))"
   ]
  },
  {
   "cell_type": "code",
   "execution_count": 22,
   "metadata": {},
   "outputs": [
    {
     "data": {
      "text/plain": [
       "tensor(0.1328)"
      ]
     },
     "execution_count": 22,
     "metadata": {},
     "output_type": "execute_result"
    }
   ],
   "source": [
    "accuracy(outputs, labels)"
   ]
  },
  {
   "cell_type": "code",
   "execution_count": 23,
   "metadata": {},
   "outputs": [
    {
     "name": "stdout",
     "output_type": "stream",
     "text": [
      "tensor(2.3344, grad_fn=<NllLossBackward0>)\n"
     ]
    }
   ],
   "source": [
    "loss_fn = F.cross_entropy\n",
    "loss = loss_fn(outputs, labels)\n",
    "print(loss)"
   ]
  },
  {
   "cell_type": "code",
   "execution_count": 24,
   "metadata": {},
   "outputs": [],
   "source": [
    "class MnistModel(nn.Module):\n",
    "    def __init__(self):\n",
    "        super().__init__()\n",
    "        self.linear = nn.Linear(input_size, num_classes)\n",
    "\n",
    "    def forward(self, xb):\n",
    "        xb = xb.reshape(-1, 784)\n",
    "        out = self.linear(xb)\n",
    "        return out\n",
    "    \n",
    "    def training_step(self, batch):\n",
    "        images, labels = batch\n",
    "        out = self(images)\n",
    "        loss = F.cross_entropy(out, labels)\n",
    "        return loss\n",
    "    \n",
    "    def validation_step(self, batch):\n",
    "        images, labels = batch\n",
    "        out = self(images)\n",
    "        loss = F.cross_entropy(out, labels)\n",
    "        acc = accuracy(out, labels)\n",
    "        return {'val_loss': loss, 'val_acc': acc}\n",
    "    \n",
    "    def validation_epoch_end(self, outputs):\n",
    "        batch_losses = [x['val_loss'] for x in outputs]\n",
    "        epoch_loss = torch.stack(batch_losses).mean()   # Combine losses\n",
    "        batch_accs = [x['val_acc'] for x in outputs]\n",
    "        epoch_acc = torch.stack(batch_accs).mean()      # Combine accuracies\n",
    "        return {'val_loss': epoch_loss.item(), 'val_acc': epoch_acc.item()}\n",
    "    \n",
    "    def epoch_end(self, epoch, result):\n",
    "        print(\"Epoch [{}], val_loss: {:.4f}, val_acc: {:.4f}\".format(epoch, result['val_loss'], result['val_acc']))\n",
    "    \n",
    "model = MnistModel()"
   ]
  },
  {
   "cell_type": "code",
   "execution_count": 25,
   "metadata": {},
   "outputs": [],
   "source": [
    "def fit(epochs, lr, model, train_loader, val_loader, opt_func=torch.optim.SGD):\n",
    "    optimizer = opt_func(model.parameters(), lr)\n",
    "    history = [] # for recording epoch-wise results\n",
    "    \n",
    "    for epoch in range(epochs):\n",
    "        \n",
    "        # Training Phase \n",
    "        for batch in train_loader:\n",
    "            loss = model.training_step(batch)\n",
    "            loss.backward()\n",
    "            optimizer.step()\n",
    "            optimizer.zero_grad()\n",
    "        \n",
    "        # Validation phase\n",
    "        result = evaluate(model, val_loader)\n",
    "        model.epoch_end(epoch, result)\n",
    "        history.append(result)\n",
    "\n",
    "    return history"
   ]
  },
  {
   "cell_type": "code",
   "execution_count": 26,
   "metadata": {},
   "outputs": [],
   "source": [
    "def evaluate(model, val_loader):\n",
    "    outputs = [model.validation_step(batch) for batch in val_loader]\n",
    "    return model.validation_epoch_end(outputs)"
   ]
  },
  {
   "cell_type": "code",
   "execution_count": 27,
   "metadata": {},
   "outputs": [
    {
     "data": {
      "text/plain": [
       "{'val_loss': 2.32320499420166, 'val_acc': 0.05300632864236832}"
      ]
     },
     "execution_count": 27,
     "metadata": {},
     "output_type": "execute_result"
    }
   ],
   "source": [
    "result0 = evaluate(model, val_loader)\n",
    "result0"
   ]
  },
  {
   "cell_type": "code",
   "execution_count": 28,
   "metadata": {},
   "outputs": [
    {
     "name": "stdout",
     "output_type": "stream",
     "text": [
      "Epoch [0], val_loss: 1.9528, val_acc: 0.6343\n",
      "Epoch [1], val_loss: 1.6849, val_acc: 0.7309\n",
      "Epoch [2], val_loss: 1.4845, val_acc: 0.7640\n",
      "Epoch [3], val_loss: 1.3330, val_acc: 0.7845\n",
      "Epoch [4], val_loss: 1.2162, val_acc: 0.7986\n"
     ]
    }
   ],
   "source": [
    "history1 = fit(5, 0.001, model, train_loader, val_loader)"
   ]
  },
  {
   "cell_type": "code",
   "execution_count": 41,
   "metadata": {},
   "outputs": [
    {
     "name": "stdout",
     "output_type": "stream",
     "text": [
      "Epoch [0], val_loss: 1.1245, val_acc: 0.8098\n",
      "Epoch [1], val_loss: 1.0509, val_acc: 0.8162\n",
      "Epoch [2], val_loss: 0.9907, val_acc: 0.8224\n",
      "Epoch [3], val_loss: 0.9406, val_acc: 0.8274\n",
      "Epoch [4], val_loss: 0.8983, val_acc: 0.8315\n"
     ]
    }
   ],
   "source": [
    "history2 = fit(5, 0.001, model, train_loader, val_loader)"
   ]
  },
  {
   "cell_type": "code",
   "execution_count": 47,
   "metadata": {},
   "outputs": [
    {
     "name": "stdout",
     "output_type": "stream",
     "text": [
      "Epoch [0], val_loss: 0.8620, val_acc: 0.8336\n",
      "Epoch [1], val_loss: 0.8306, val_acc: 0.8365\n",
      "Epoch [2], val_loss: 0.8031, val_acc: 0.8389\n",
      "Epoch [3], val_loss: 0.7788, val_acc: 0.8416\n",
      "Epoch [4], val_loss: 0.7571, val_acc: 0.8436\n"
     ]
    }
   ],
   "source": [
    "history3 = fit(5, 0.001, model, train_loader, val_loader)"
   ]
  },
  {
   "cell_type": "code",
   "execution_count": 50,
   "metadata": {},
   "outputs": [
    {
     "name": "stdout",
     "output_type": "stream",
     "text": [
      "Epoch [0], val_loss: 0.7377, val_acc: 0.8455\n",
      "Epoch [1], val_loss: 0.7202, val_acc: 0.8474\n",
      "Epoch [2], val_loss: 0.7043, val_acc: 0.8486\n",
      "Epoch [3], val_loss: 0.6898, val_acc: 0.8499\n",
      "Epoch [4], val_loss: 0.6765, val_acc: 0.8516\n"
     ]
    }
   ],
   "source": [
    "history4 = fit(5, 0.001, model, train_loader, val_loader)"
   ]
  },
  {
   "cell_type": "code",
   "execution_count": 42,
   "metadata": {},
   "outputs": [],
   "source": [
    "test_dataset = MNIST(root='data/', train=False, transform=transforms.ToTensor())\n"
   ]
  },
  {
   "cell_type": "code",
   "execution_count": 43,
   "metadata": {},
   "outputs": [
    {
     "data": {
      "text/plain": [
       "<matplotlib.image.AxesImage at 0x1a171028340>"
      ]
     },
     "execution_count": 43,
     "metadata": {},
     "output_type": "execute_result"
    },
    {
     "data": {
      "image/png": "[encoded data removed]",
      "text/plain": [
       "<Figure size 640x480 with 1 Axes>"
      ]
     },
     "metadata": {},
     "output_type": "display_data"
    }
   ],
   "source": [
    "img, label = test_dataset[0]\n",
    "plt.imshow(img[0], cmap='gray')"
   ]
  },
  {
   "cell_type": "code",
   "execution_count": 31,
   "metadata": {},
   "outputs": [
    {
     "data": {
      "text/plain": [
       "torch.Size([1, 1, 28, 28])"
      ]
     },
     "execution_count": 31,
     "metadata": {},
     "output_type": "execute_result"
    }
   ],
   "source": [
    "img.unsqueeze(0).shape"
   ]
  },
  {
   "cell_type": "code",
   "execution_count": 34,
   "metadata": {},
   "outputs": [],
   "source": [
    "def predict_image(img, model):\n",
    "    xb = img.unsqueeze(0)\n",
    "    yb = model(xb)\n",
    "    _, preds = torch.max(yb, dim=1)\n",
    "    return preds[0].item()"
   ]
  },
  {
   "cell_type": "code",
   "execution_count": 51,
   "metadata": {},
   "outputs": [
    {
     "name": "stdout",
     "output_type": "stream",
     "text": [
      "Label: 9 , Predicted: 7\n"
     ]
    },
    {
     "data": {
      "image/png": "[encoded data removed]",
      "text/plain": [
       "<Figure size 640x480 with 1 Axes>"
      ]
     },
     "metadata": {},
     "output_type": "display_data"
    }
   ],
   "source": [
    "img, label =test_dataset[1000]\n",
    "plt.imshow(img[0], cmap='gray')\n",
    "print('Label:', label, ', Predicted:', predict_image(img, model))"
   ]
  },
  {
   "cell_type": "code",
   "execution_count": 40,
   "metadata": {},
   "outputs": [
    {
     "data": {
      "text/plain": [
       "{'val_loss': 1.1864194869995117, 'val_acc': 0.808789074420929}"
      ]
     },
     "execution_count": 40,
     "metadata": {},
     "output_type": "execute_result"
    }
   ],
   "source": [
    "test_loader = DataLoader(test_dataset, batch_size=256)\n",
    "result = evaluate(model, test_loader)\n",
    "result"
   ]
  },
  {
   "cell_type": "code",
   "execution_count": 46,
   "metadata": {},
   "outputs": [
    {
     "data": {
      "text/plain": [
       "{'val_loss': 0.8639562726020813, 'val_acc': 0.8345702886581421}"
      ]
     },
     "execution_count": 46,
     "metadata": {},
     "output_type": "execute_result"
    }
   ],
   "source": [
    "test_loader = DataLoader(test_dataset, batch_size=256)\n",
    "result = evaluate(model, test_loader)\n",
    "result"
   ]
  },
  {
   "cell_type": "code",
   "execution_count": 49,
   "metadata": {},
   "outputs": [
    {
     "data": {
      "text/plain": [
       "{'val_loss': 0.7222319841384888, 'val_acc': 0.8504883050918579}"
      ]
     },
     "execution_count": 49,
     "metadata": {},
     "output_type": "execute_result"
    }
   ],
   "source": [
    "test_loader = DataLoader(test_dataset, batch_size=256)\n",
    "result = evaluate(model, test_loader)\n",
    "result"
   ]
  },
  {
   "cell_type": "code",
   "execution_count": 52,
   "metadata": {},
   "outputs": [
    {
     "data": {
      "text/plain": [
       "{'val_loss': 0.6417790055274963, 'val_acc': 0.859179675579071}"
      ]
     },
     "execution_count": 52,
     "metadata": {},
     "output_type": "execute_result"
    }
   ],
   "source": [
    "test_loader = DataLoader(test_dataset, batch_size=256)\n",
    "result = evaluate(model, test_loader)\n",
    "result"
   ]
  },
  {
   "cell_type": "code",
   "execution_count": 53,
   "metadata": {},
   "outputs": [],
   "source": [
    "torch.save(model.state_dict(), 'mnist-logistic.pth')\n"
   ]
  },
  {
   "cell_type": "code",
   "execution_count": 54,
   "metadata": {},
   "outputs": [
    {
     "data": {
      "text/plain": [
       "OrderedDict([('linear.weight',\n",
       "              tensor([[ 0.0103,  0.0140,  0.0286,  ..., -0.0282,  0.0110, -0.0158],\n",
       "                      [ 0.0003,  0.0245, -0.0112,  ...,  0.0284, -0.0249, -0.0087],\n",
       "                      [-0.0248,  0.0046, -0.0227,  ...,  0.0130,  0.0286, -0.0287],\n",
       "                      ...,\n",
       "                      [ 0.0299, -0.0019, -0.0144,  ..., -0.0097,  0.0098, -0.0144],\n",
       "                      [-0.0113,  0.0069, -0.0168,  ..., -0.0353, -0.0152,  0.0200],\n",
       "                      [ 0.0179,  0.0051,  0.0296,  ...,  0.0262, -0.0089, -0.0175]])),\n",
       "             ('linear.bias',\n",
       "              tensor([-0.0550,  0.1224,  0.0041, -0.0154,  0.0279,  0.0474,  0.0195,  0.0111,\n",
       "                      -0.0815, -0.0319]))])"
      ]
     },
     "execution_count": 54,
     "metadata": {},
     "output_type": "execute_result"
    }
   ],
   "source": [
    "model.state_dict()"
   ]
  },
  {
   "cell_type": "code",
   "execution_count": 55,
   "metadata": {},
   "outputs": [
    {
     "data": {
      "text/plain": [
       "OrderedDict([('linear.weight',\n",
       "              tensor([[ 0.0103,  0.0140,  0.0286,  ..., -0.0282,  0.0110, -0.0158],\n",
       "                      [ 0.0003,  0.0245, -0.0112,  ...,  0.0284, -0.0249, -0.0087],\n",
       "                      [-0.0248,  0.0046, -0.0227,  ...,  0.0130,  0.0286, -0.0287],\n",
       "                      ...,\n",
       "                      [ 0.0299, -0.0019, -0.0144,  ..., -0.0097,  0.0098, -0.0144],\n",
       "                      [-0.0113,  0.0069, -0.0168,  ..., -0.0353, -0.0152,  0.0200],\n",
       "                      [ 0.0179,  0.0051,  0.0296,  ...,  0.0262, -0.0089, -0.0175]])),\n",
       "             ('linear.bias',\n",
       "              tensor([-0.0550,  0.1224,  0.0041, -0.0154,  0.0279,  0.0474,  0.0195,  0.0111,\n",
       "                      -0.0815, -0.0319]))])"
      ]
     },
     "execution_count": 55,
     "metadata": {},
     "output_type": "execute_result"
    }
   ],
   "source": [
    "model2 = MnistModel()\n",
    "model2.load_state_dict(torch.load('mnist-logistic.pth'))\n",
    "model2.state_dict()"
   ]
  },
  {
   "cell_type": "code",
   "execution_count": 56,
   "metadata": {},
   "outputs": [
    {
     "data": {
      "text/plain": [
       "{'val_loss': 0.6417790055274963, 'val_acc': 0.859179675579071}"
      ]
     },
     "execution_count": 56,
     "metadata": {},
     "output_type": "execute_result"
    }
   ],
   "source": [
    "test_loader = DataLoader(test_dataset, batch_size=256)\n",
    "result = evaluate(model2, test_loader)\n",
    "result"
   ]
  }
 ],
 "metadata": {
  "kernelspec": {
   "display_name": "cuda",
   "language": "python",
   "name": "python3"
  },
  "language_info": {
   "codemirror_mode": {
    "name": "ipython",
    "version": 3
   },
   "file_extension": ".py",
   "mimetype": "text/x-python",
   "name": "python",
   "nbconvert_exporter": "python",
   "pygments_lexer": "ipython3",
   "version": "3.10.8"
  }
 },
 "nbformat": 4,
 "nbformat_minor": 2
}
